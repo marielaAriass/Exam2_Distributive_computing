{
  "nbformat": 4,
  "nbformat_minor": 0,
  "metadata": {
    "colab": {
      "provenance": [],
      "authorship_tag": "ABX9TyPwOY1qJsnmPZBZcru9vMNi",
      "include_colab_link": true
    },
    "kernelspec": {
      "name": "python3",
      "display_name": "Python 3"
    },
    "language_info": {
      "name": "python"
    }
  },
  "cells": [
    {
      "cell_type": "markdown",
      "metadata": {
        "id": "view-in-github",
        "colab_type": "text"
      },
      "source": [
        "<a href=\"https://colab.research.google.com/github/marielaAriass/Exam2_Distributive_computing/blob/main/scripts/TH_Simulacion.ipynb\" target=\"_parent\"><img src=\"https://colab.research.google.com/assets/colab-badge.svg\" alt=\"Open In Colab\"/></a>"
      ]
    },
    {
      "cell_type": "code",
      "source": [
        "# prompt: INSTALAR BIO\n",
        "\n",
        "!pip install biopython"
      ],
      "metadata": {
        "colab": {
          "base_uri": "https://localhost:8080/"
        },
        "id": "3H0aT2PjG9Cf",
        "outputId": "4047f89e-8fd7-4016-bb00-029042017714"
      },
      "execution_count": 2,
      "outputs": [
        {
          "output_type": "stream",
          "name": "stdout",
          "text": [
            "Collecting biopython\n",
            "  Downloading biopython-1.84-cp310-cp310-manylinux_2_17_x86_64.manylinux2014_x86_64.whl.metadata (12 kB)\n",
            "Requirement already satisfied: numpy in /usr/local/lib/python3.10/dist-packages (from biopython) (1.26.4)\n",
            "Downloading biopython-1.84-cp310-cp310-manylinux_2_17_x86_64.manylinux2014_x86_64.whl (3.2 MB)\n",
            "\u001b[?25l   \u001b[90m━━━━━━━━━━━━━━━━━━━━━━━━━━━━━━━━━━━━━━━━\u001b[0m \u001b[32m0.0/3.2 MB\u001b[0m \u001b[31m?\u001b[0m eta \u001b[36m-:--:--\u001b[0m\r\u001b[2K   \u001b[91m━━━━━\u001b[0m\u001b[90m╺\u001b[0m\u001b[90m━━━━━━━━━━━━━━━━━━━━━━━━━━━━━━━━━━\u001b[0m \u001b[32m0.4/3.2 MB\u001b[0m \u001b[31m12.9 MB/s\u001b[0m eta \u001b[36m0:00:01\u001b[0m\r\u001b[2K   \u001b[91m━━━━━━━━━━━━━━━━━━━━━━━━━━━━━━━━━━━━━━━\u001b[0m\u001b[91m╸\u001b[0m \u001b[32m3.2/3.2 MB\u001b[0m \u001b[31m48.1 MB/s\u001b[0m eta \u001b[36m0:00:01\u001b[0m\r\u001b[2K   \u001b[91m━━━━━━━━━━━━━━━━━━━━━━━━━━━━━━━━━━━━━━━\u001b[0m\u001b[91m╸\u001b[0m \u001b[32m3.2/3.2 MB\u001b[0m \u001b[31m48.1 MB/s\u001b[0m eta \u001b[36m0:00:01\u001b[0m\r\u001b[2K   \u001b[90m━━━━━━━━━━━━━━━━━━━━━━━━━━━━━━━━━━━━━━━━\u001b[0m \u001b[32m3.2/3.2 MB\u001b[0m \u001b[31m28.8 MB/s\u001b[0m eta \u001b[36m0:00:00\u001b[0m\n",
            "\u001b[?25hInstalling collected packages: biopython\n",
            "Successfully installed biopython-1.84\n"
          ]
        }
      ]
    },
    {
      "cell_type": "code",
      "execution_count": 6,
      "metadata": {
        "colab": {
          "base_uri": "https://localhost:8080/"
        },
        "id": "7PeYuvLyFkqV",
        "outputId": "e7ded85f-85e5-4ad8-c1c2-14037c75086d"
      },
      "outputs": [
        {
          "output_type": "stream",
          "name": "stdout",
          "text": [
            "                      0   1   2   3   4   5   6   7   8   9    ...   695  \\\n",
            "S.p_N44_MAT             T   C   T   T   G   T   T   C   A   A  ...     G   \n",
            "S.p_YPS138_MAT          T   C   T   T   G   T   T   C   A   A  ...  None   \n",
            "S.p_UWOPS91-917.1_MAT   T   C   T   T   G   T   T   C   A   A  ...  None   \n",
            "S.c_ADE_MAT             T   C   T   T   G   T   T   C   A   A  ...     t   \n",
            "S.c_ADI_MAT             T   C   T   T   G   T   T   C   A   A  ...     t   \n",
            "S.c_AHG_MAT             T   C   T   T   G   T   T   C   A   A  ...     G   \n",
            "\n",
            "                        696   697   698   699   700   701   702   703   704  \n",
            "S.p_N44_MAT               C     T     T     T     T     T     A     T     T  \n",
            "S.p_YPS138_MAT         None  None  None  None  None  None  None  None  None  \n",
            "S.p_UWOPS91-917.1_MAT  None  None  None  None  None  None  None  None  None  \n",
            "S.c_ADE_MAT               t     t     t     t     a     t     t  None  None  \n",
            "S.c_ADI_MAT               t     t     t     t     a     t     t  None  None  \n",
            "S.c_AHG_MAT               c     t     t     t     t     t     a     t     t  \n",
            "\n",
            "[6 rows x 705 columns]\n"
          ]
        }
      ],
      "source": [
        "import pandas as pd\n",
        "from Bio import SeqIO\n",
        "\n",
        "# Leer archivo FASTA\n",
        "fasta_file = \"CP_MAT.fasta\"\n",
        "sequences = list(SeqIO.parse(fasta_file, \"fasta\"))\n",
        "\n",
        "# Inicializar una lista para guardar las secuencias como filas de la matriz\n",
        "matriz = []\n",
        "\n",
        "# Recorrer las secuencias y agregarlas a la matriz\n",
        "for seq_record in sequences:\n",
        "    # Convertir la secuencia en una lista de nucleótidos\n",
        "    nucleotidos = list(str(seq_record.seq))\n",
        "    # Agregar la fila a la matriz\n",
        "    matriz.append(nucleotidos)\n",
        "\n",
        "# Crear un DataFrame a partir de la matriz\n",
        "df_matriz = pd.DataFrame(matriz)\n",
        "\n",
        "# Cambiar los nombres de las filas por los nombres completos de las secuencias\n",
        "df_matriz.index = [seq_record.description for seq_record in sequences]\n",
        "\n",
        "# Guardar la matriz como archivo Excel\n",
        "df_matriz.to_excel(\"matriz_secuencias_completa.xlsx\", index=True)\n",
        "\n",
        "print(df_matriz)\n"
      ]
    },
    {
      "cell_type": "code",
      "source": [
        "# Función para hacer la transferencia horizontal entre dos filas\n",
        "def transferencia_horizontal(df, fila_origen, fila_destino, coord_inicio, coord_final):\n",
        "    # Copia del DataFrame original para no modificarlo directamente\n",
        "    df_modificado = df.copy()\n",
        "\n",
        "    # Tomar el fragmento de la fila de origen\n",
        "    fragmento = df_modificado.iloc[fila_origen, coord_inicio:coord_final].values\n",
        "\n",
        "    # Sustituir el fragmento en la fila destino\n",
        "    df_modificado.iloc[fila_destino, coord_inicio:coord_final] = fragmento\n",
        "\n",
        "    return df_modificado\n",
        "\n",
        "fila_origen = 0  # Índice de la primera fila\n",
        "fila_destino = 3  # Índice de la segunda fila (\n",
        "coord_inicio = 2  # Coordenada de inicio\n",
        "coord_final = 5   # Coordenada de final (excluye esta columna)\n",
        "\n",
        "# Aplicar la transferencia horizontal\n",
        "df_matriz_modificada = transferencia_horizontal(df_matriz, fila_origen, fila_destino, coord_inicio, coord_final)\n",
        "\n",
        "# Guardar la matriz modificada como un archivo Excel\n",
        "df_matriz_modificada.to_excel(\"matriz_secuencias_transferencia.xlsx\", index=True)\n",
        "\n",
        "print(df_matriz_modificada)\n"
      ],
      "metadata": {
        "colab": {
          "base_uri": "https://localhost:8080/"
        },
        "id": "g9QwTMvEG7zJ",
        "outputId": "22109607-98e6-432c-d746-5d1721136f51"
      },
      "execution_count": 7,
      "outputs": [
        {
          "output_type": "stream",
          "name": "stdout",
          "text": [
            "                      0   1   2   3   4   5   6   7   8   9    ...   695  \\\n",
            "S.p_N44_MAT             T   C   T   T   G   T   T   C   A   A  ...     G   \n",
            "S.p_YPS138_MAT          T   C   T   T   G   T   T   C   A   A  ...  None   \n",
            "S.p_UWOPS91-917.1_MAT   T   C   T   T   G   T   T   C   A   A  ...  None   \n",
            "S.c_ADE_MAT             T   C   T   T   G   T   T   C   A   A  ...     t   \n",
            "S.c_ADI_MAT             T   C   T   T   G   T   T   C   A   A  ...     t   \n",
            "S.c_AHG_MAT             T   C   T   T   G   T   T   C   A   A  ...     G   \n",
            "\n",
            "                        696   697   698   699   700   701   702   703   704  \n",
            "S.p_N44_MAT               C     T     T     T     T     T     A     T     T  \n",
            "S.p_YPS138_MAT         None  None  None  None  None  None  None  None  None  \n",
            "S.p_UWOPS91-917.1_MAT  None  None  None  None  None  None  None  None  None  \n",
            "S.c_ADE_MAT               t     t     t     t     a     t     t  None  None  \n",
            "S.c_ADI_MAT               t     t     t     t     a     t     t  None  None  \n",
            "S.c_AHG_MAT               c     t     t     t     t     t     a     t     t  \n",
            "\n",
            "[6 rows x 705 columns]\n"
          ]
        }
      ]
    },
    {
      "cell_type": "code",
      "source": [],
      "metadata": {
        "id": "VOCxnSYIMEL0"
      },
      "execution_count": null,
      "outputs": []
    }
  ]
}